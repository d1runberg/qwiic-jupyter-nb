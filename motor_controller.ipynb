{
 "cells": [
  {
   "cell_type": "markdown",
   "metadata": {},
   "source": [
    "# SparkFun Qwiic Environmental Combo Board\n",
    "\n",
    "<center><img src=\"./images/qwiic_motor.jpg\" width:\"200\" height:\"200\"></center>\n",
    "\n",
    "The SparkFun Qwiic Motor Driver takes all the great features of the Serial Controlled Motor Driver (SCMD) and miniaturizes them, adding Qwiic ports for plug and play functionality. Boasting the same 4245 PSOC and 2-channel motor ports as the SCMD, the SparkFun Qwiic Motor Driver is designed to communicate over I2C to make setting up your next robotic project as fast and easy as possible! Utilizing our handy Qwiic system and screw terminals for motor and power hook-up, no soldering is required to connect it to the rest of your system.\n",
    "\n",
    "With 1.2A steady state drive per channel (1.5A peak) and 127 levels of DC drive strength, this little Qwiic board is perfect for your small DC motor driver needs. Since the Qwiic Motor Driver is a 3.3V logic device, you'll need to use a logic level converter to interface to 5V."
   ]
  },
  {
   "cell_type": "markdown",
   "metadata": {},
   "source": [
    "# Hooking up the Motor Driver\n",
    "\n",
    "<center><img scr=\"#\"></center>\n",
    "\n",
    "Hooking up the Qwiic Motor Driver with our Qwiic Line of products that are supported with Python are pretty straight forward, but there is a little more than just a Qwiic plug here! You need a Phat or our Qwiic Shim, your Qwiic Twist and a Qwiic Cable and a power source designated for powering your motors. Most single board computers and microcontroller boards do not source enough current to safely power motors. We provide a pair of screw terminals for you to add an external power supply for your motors. A few of our Phats work perfectly for pairing with the motor driver with this in mind.\n",
    "\n",
    "### The Qwiic Phat\n",
    "\n",
    "<center><img src=\"./images/qwiic_phat.jpg\"></center>\n",
    "\n",
    "The newest revision of the Qwiic Phat has the addition of a pair of screw terminals for source enough current to opperate a couple of motors. In fact, this is the Phat that our version of the Jetbot uses to power its motors. **Note: This sources power through the 5V pin on the Single Board Computer and has its current limits. Using larger motors may draw too much current and brown out your system. \n",
    "\n",
    "<center><img src=\"./images/motor_h.jpg\"></center>\n",
    "\n"
   ]
  },
  {
   "cell_type": "markdown",
   "metadata": {},
   "source": [
    "# The Code\n",
    "To use the Qwiic Twist in Python and your Nvidia Jetson Nano, you first need to install the required Python libraries for it. If you haven't done so yet; no worries! We created a quick start notebook for you [here](#) which will walk you through installing the libraries through Jupyter Notebooks Terminal window.\n",
    "\n",
    "Once everything is installed we import the libraries we need into our program. We import the `qwiic_scmd` library and `time` libraries. Those are all we need to get started!!!"
   ]
  },
  {
   "cell_type": "code",
   "execution_count": null,
   "metadata": {},
   "outputs": [],
   "source": [
    "import qwiic_scmd\n",
    "import time"
   ]
  },
  {
   "cell_type": "markdown",
   "metadata": {},
   "source": [
    "Next, to help us keep things straight in terms of which motor is which we create `right_motor` and `left_motor` variables and assign them the values of 1 and 0 as this is how they are referenced in the motor driver API. \n"
   ]
  },
  {
   "cell_type": "code",
   "execution_count": null,
   "metadata": {},
   "outputs": [],
   "source": [
    "right_motor = 0\n",
    "left_motor = 1 "
   ]
  },
  {
   "cell_type": "markdown",
   "metadata": {},
   "source": [
    "We instantiate our library as its own object (`motors`). We do a quick test to make sure that the motor driver is connected to our system, if not, it will return an error for you."
   ]
  },
  {
   "cell_type": "code",
   "execution_count": null,
   "metadata": {},
   "outputs": [],
   "source": [
    "motors = qwiic_scmd.QwiicScmd()\n",
    "\n",
    "if motors.connected == True:\n",
    "    print(\"Robot motor driver online, testing motors...\")\n",
    "    time.sleep(2)\n",
    "else:\n",
    "    print(\"motor Driver error!\")\n",
    "\n"
   ]
  },
  {
   "cell_type": "markdown",
   "metadata": {},
   "source": [
    "We create an function called `example()` to hold our motor driver example functionality. We first enable the motor driver using the `motors.enable()` method and then drive the individual motors with the `motors.set_drive(motor,direction,speed)` methods. We set the amount of time that we want the motors to run using the `time.sleep()` method. To stop the motors we can either reduce their speed to 0, or use the `motors.disable()` method. If you end up using the disable method, you need to remember to re-enable them if you want them to drive again.\n",
    "\n",
    "**Note: The motors will run for a given amount of time and then stop as this script is not inide of an infinite while loop to keep it running. "
   ]
  },
  {
   "cell_type": "code",
   "execution_count": null,
   "metadata": {},
   "outputs": [],
   "source": [
    "def example():\n",
    "    motors.enable()\n",
    "    #drive both motors forward at full speed (255)\n",
    "    motors.set_drive(left,1,255)\n",
    "    motors.set_drive(right,1,255)\n",
    "    #drive for 2 seconds\n",
    "    time.sleep(2)\n",
    "    #set motor speed to stop (0) for both motors\n",
    "    motors.set_drive(left,1,0)\n",
    "    motors.set_driver(right,1,0)\n",
    "    #disable motor driver functionality\n",
    "    motors.disable()"
   ]
  },
  {
   "cell_type": "markdown",
   "metadata": {},
   "source": [
    "We finally execute the function through best practices and use of the `if __name__ == '__main__':`"
   ]
  },
  {
   "cell_type": "code",
   "execution_count": null,
   "metadata": {},
   "outputs": [],
   "source": [
    "if __name__ == '__main__':\n",
    "    try:\n",
    "        example()\n",
    "    except (KeyboardInterrupt, SystemExit) as exErr:\n",
    "        print(\"\\nEnding OLED Hello Example\")\n",
    "        sys.exit(0)"
   ]
  },
  {
   "cell_type": "markdown",
   "metadata": {},
   "source": [
    "For more information and a deeper dive into the Qwiic Motor Controller API Please refer to our API reference at [ReadTheDocs](https://qwiic-scmd-py.readthedocs.io/en/latest/index.html)"
   ]
  }
 ],
 "metadata": {
  "kernelspec": {
   "display_name": "Python 3",
   "language": "python",
   "name": "python3"
  },
  "language_info": {
   "codemirror_mode": {
    "name": "ipython",
    "version": 3
   },
   "file_extension": ".py",
   "mimetype": "text/x-python",
   "name": "python",
   "nbconvert_exporter": "python",
   "pygments_lexer": "ipython3",
   "version": "3.6.9"
  }
 },
 "nbformat": 4,
 "nbformat_minor": 4
}
