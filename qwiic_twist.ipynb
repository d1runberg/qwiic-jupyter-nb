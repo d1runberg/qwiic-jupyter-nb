{
 "cells": [
  {
   "cell_type": "markdown",
   "metadata": {},
   "source": [
    "# SparkFun Qwiic Twist Rotary Encoder\n",
    "\n",
    "<center><img src=\"./images/qwiic_twist.jpg\"></center>\n",
    "\n",
    "The SparkFun Qwiic Twist is a digital RGB rotary encoder breakout that is also able to connect to our Qwiic Connect System. The Twist takes care of all the various interrupts, switches, PWM'ing of LEDs, and presents all those features over an easy-to-use I2C interface. The Qwiic Twist was designed to get rid of the large mass of wires that are needed to implement an RGB encoder in a breadboard enabling you to stop messing around with interrupt debugging and get back to your project! Utilizing our handy Qwiic system, no soldering is required to connect it to the rest of your system. However, we still have broken out 0.1\"-spaced pins in case you prefer to use a breadboard.\n",
    "\n",
    "One rotation in the clockwise direction for the rotary encoder increases the overall count by 24 and -24 in the counter-clockwise direction. The number of 'ticks' or steps you have turned the knob are all transmitted over I2C. The red, green, and blue LEDs are all set via software commands and can be digitally mixed to achieve over 16 million colors!"
   ]
  },
  {
   "cell_type": "markdown",
   "metadata": {},
   "source": [
    "# Hooking up the Twist\n",
    "\n",
    "<center><img scr=\"./images/twist_h.jpg\"></center>\n",
    "\n",
    "Hooking up the Qwiic Twist with our Qwiic Line of products that are supported with Python are pretty straight forward! You need a Phat or our Qwiic Shim, your Qwiic Twist and a Qwiic Cable. The cables are keyed so there is no way to plug things in backwards. Qwiic is also daisy chain-able so if you want to add another Qwiic compatible boards later you just need a cable and find an open Qwiic connector on your system! \n"
   ]
  },
  {
   "cell_type": "markdown",
   "metadata": {},
   "source": [
    "# The Code\n",
    "To use the Qwiic Twist in Python and your Nvidia Jetson Nano, you first need to install the required Python libraries for it. If you haven't done so yet; no worries! We created a quick start notebook for you [here](#) which will walk you through installing the libraries through Jupyter Notebooks Terminal window.\n",
    "\n",
    "Once everything is installed we import the libraries we need into our program. We import the `qwiic_twist` library and also the `sys` and `time` libraries. Those are all we need to get started!!!"
   ]
  },
  {
   "cell_type": "code",
   "execution_count": null,
   "metadata": {},
   "outputs": [],
   "source": [
    "from __future__ import print_function\n",
    "import qwiic_twist\n",
    "import time\n",
    "import sys"
   ]
  },
  {
   "cell_type": "markdown",
   "metadata": {},
   "source": [
    "To start with we create a function to hold the majority of our script. We start out by instantiating our library as its own object (`my_twist`). We do a quick test to make sure that the board is connected to our system, if not, it will return an error for you. Finally, if we everything passes our error checking, we start the Qwiic Twist with its `.begin()` method. "
   ]
  },
  {
   "cell_type": "code",
   "execution_count": null,
   "metadata": {},
   "outputs": [],
   "source": [
    "def runExample():\n",
    "\n",
    "    print(\"\\nSparkFun qwiic Twist   Example 1\\n\")\n",
    "    my_twist = qwiic_twist.QwiicTwist()\n",
    "    if my_twist.connected == False:\n",
    "        print(\"The Qwiic twist device isn't connected to the system. Please check your connection\", \\\n",
    "            file=sys.stderr)\n",
    "        return\n",
    "\n",
    "    my_twist.begin()"
   ]
  },
  {
   "cell_type": "markdown",
   "metadata": {},
   "source": [
    "The Qwiic Twist is not just a rotary encoder, it is also a programmable RGB LED giving you so visual feedback in terms of color! You can simply change the LED color of the Twist by using the `my_twist.set_color(r,g,b)` method."
   ]
  },
  {
   "cell_type": "code",
   "execution_count": null,
   "metadata": {},
   "outputs": [],
   "source": [
    "    my_twist.set_color(100, 10, 50)"
   ]
  },
  {
   "cell_type": "markdown",
   "metadata": {},
   "source": [
    "With the color of the Twist set, the script now enters an infinite while loop that prints out the current count of the rotary encoder as well as if the twists momentary switch is being pressed or not. "
   ]
  },
  {
   "cell_type": "code",
   "execution_count": null,
   "metadata": {},
   "outputs": [],
   "source": [
    "    while True:\n",
    "\n",
    "        print(\"Count: %d, Pressed: %s\" % (myTwist.count, \\\n",
    "            \"YES\" if myTwist.pressed else \"NO\", \\\n",
    "                ))\n",
    "\n",
    "        time.sleep(.3)"
   ]
  },
  {
   "cell_type": "markdown",
   "metadata": {},
   "source": [
    "We finally execute the function through best practices and use of the `if __name__ == '__main__':`"
   ]
  },
  {
   "cell_type": "code",
   "execution_count": null,
   "metadata": {},
   "outputs": [],
   "source": [
    "if __name__ == '__main__':\n",
    "\ttry:\n",
    "\t\trunExample()\n",
    "\texcept (KeyboardInterrupt, SystemExit) as exErr:\n",
    "\t\tprint(\"\\nEnding Example 1\")\n",
    "\t\tsys.exit(0)"
   ]
  },
  {
   "cell_type": "markdown",
   "metadata": {},
   "source": [
    "For more information and a deeper dive into the Qwiic Twist API Please refer to our API reference at [ReadTheDocs](https://qwiic-twist-py.readthedocs.io/en/latest/?)"
   ]
  }
 ],
 "metadata": {
  "kernelspec": {
   "display_name": "Python 3",
   "language": "python",
   "name": "python3"
  },
  "language_info": {
   "codemirror_mode": {
    "name": "ipython",
    "version": 3
   },
   "file_extension": ".py",
   "mimetype": "text/x-python",
   "name": "python",
   "nbconvert_exporter": "python",
   "pygments_lexer": "ipython3",
   "version": "3.6.9"
  }
 },
 "nbformat": 4,
 "nbformat_minor": 4
}
