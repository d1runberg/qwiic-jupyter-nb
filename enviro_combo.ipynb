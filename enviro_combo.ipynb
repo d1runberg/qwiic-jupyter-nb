{
 "cells": [
  {
   "cell_type": "markdown",
   "metadata": {},
   "source": [
    "# SparkFun Qwiic Environmental Combo Board\n",
    "\n",
    "<center><img src=\"./images/atmos_combo.jpg\"></center>\n",
    "\n",
    "The SparkFun CCS811/BME280 Environmental Combo Breakout takes care of all your atmospheric-quality sensing needs with the popular CCS811 and BME280 ICs. This unique breakout provides a variety of environmental data, including barometric pressure, humidity, temperature, TVOCs and equivalent CO2 (or eCO2) levels. To make it even easier to use this breakout, all communication is enacted exclusively via I2C, utilizing our handy Qwiic system. "
   ]
  },
  {
   "cell_type": "markdown",
   "metadata": {},
   "source": [
    "# Qwiic Hookup\n",
    "\n",
    "<center><img src=\"./images/env_combo_h.jpg\"></center>\n",
    "Hookup with our Qwiic Line of products that are supported with Python are pretty straight forward! You need a Phat or our Qwiic Shim, your Qwiic board you Qwiic Environmental Board and a Qwiic Cable. The cables are keyed so there is no way to plug things in backwards. Qwiic is also daisy chain-able so if you want to add another Qwiic compatible boards later you just need a cable and find an open Qwiic connector on your system! "
   ]
  },
  {
   "cell_type": "markdown",
   "metadata": {},
   "source": [
    "# The Code\n",
    "To use the Qwiic Environmental Combo in Python and your Nvidia Jetson Nano, you first need to install the required Python libraries for it. If you haven't done so yet; no worries! We created a quick start notebook for you [here](#) which will walk you through installing the libraries through Jupyter Notebooks Terminal window.\n",
    "\n",
    "Once everything is installed we import the libraries into our program. Note that the Environmental Combo board is a mash-up of two sensors, so we import libraries for both the BME280 (`qwiic_bme280`) and the CCS811(`qwiic_ccs811`). We also include the `time` library as well as `sys`"
   ]
  },
  {
   "cell_type": "code",
   "execution_count": 1,
   "metadata": {},
   "outputs": [],
   "source": [
    "import qwiic_bme280\n",
    "import qwiic_ccs811\n",
    "import time\n",
    "import sys"
   ]
  },
  {
   "cell_type": "markdown",
   "metadata": {},
   "source": [
    "Now the meat of our program; first off we instantiate both of our libraries as their own objects (`my_bme` and `my_css`). We do a quick test to make sure that both sensors are connected to our system, if they are not it will return an error for you. Finally, if we are all good and clear we start both sensors with their `.begin()` methods. "
   ]
  },
  {
   "cell_type": "code",
   "execution_count": 2,
   "metadata": {},
   "outputs": [
    {
     "ename": "TabError",
     "evalue": "inconsistent use of tabs and spaces in indentation (<ipython-input-2-f46498a2e201>, line 6)",
     "output_type": "error",
     "traceback": [
      "\u001b[0;36m  File \u001b[0;32m\"<ipython-input-2-f46498a2e201>\"\u001b[0;36m, line \u001b[0;32m6\u001b[0m\n\u001b[0;31m    print(\"The Qwiic BME280 device isn't connected to the system. Please check your connection\", \\\u001b[0m\n\u001b[0m                                                                                                  ^\u001b[0m\n\u001b[0;31mTabError\u001b[0m\u001b[0;31m:\u001b[0m inconsistent use of tabs and spaces in indentation\n"
     ]
    }
   ],
   "source": [
    "def runExample():\n",
    "    my_bme = qwiic_bme280.QwiicBme280()\n",
    "    my_ccs = qwiic_ccs811.QwiicCcs811() \n",
    "   \n",
    "    if my_bme.connected == False:\n",
    "\t\tprint(\"The Qwiic BME280 device isn't connected to the system. Please check your connection\", \\\n",
    "\t\t\tfile=sys.stderr)\n",
    "\t\treturn\n",
    "    if my_ccs.connected === False:\n",
    "        print(\"The qwiic CCS811 isnt connected to the system. Please check your connection\", \\file=sys.stdrr)\n",
    "        return\n",
    "\n",
    "\tmy_bme.begin()\n",
    "    my_ccs.begin()\n"
   ]
  },
  {
   "cell_type": "markdown",
   "metadata": {},
   "source": [
    "Once the sensors have started, inside of an infinite while loop we read the sensor data and print it out once every second. "
   ]
  },
  {
   "cell_type": "code",
   "execution_count": 3,
   "metadata": {},
   "outputs": [
    {
     "ename": "TabError",
     "evalue": "inconsistent use of tabs and spaces in indentation (<ipython-input-3-b685091575c9>, line 4)",
     "output_type": "error",
     "traceback": [
      "\u001b[0;36m  File \u001b[0;32m\"<ipython-input-3-b685091575c9>\"\u001b[0;36m, line \u001b[0;32m4\u001b[0m\n\u001b[0;31m    print(\"Humidity:\\t%.3f\" % my_bme.humidity)\u001b[0m\n\u001b[0m                                              ^\u001b[0m\n\u001b[0;31mTabError\u001b[0m\u001b[0;31m:\u001b[0m inconsistent use of tabs and spaces in indentation\n"
     ]
    }
   ],
   "source": [
    "\twhile True:\n",
    "        my_ccs.read_algorithm_results()\n",
    "        \n",
    "\t\tprint(\"Humidity:\\t%.3f\" % my_bme.humidity)\n",
    "\n",
    "\t\tprint(\"Pressure:\\t%.3f\" % my_bme.pressure)\t\n",
    "\n",
    "\t\tprint(\"Altitude:\\t%.3f\" % my_bme.altitude_feet)\n",
    "\n",
    "\t\tprint(\"Temperature:\\t%.2f\" % my_bme.temperature_fahrenheit)\n",
    "        \n",
    "        print(\"CO2:\\t%.3f\" % my_ccs.CO2)\n",
    "        \n",
    "        print(\"tVOC:\\t%.3f\\n\" % my_ccs.TVOC)\n",
    "        \n",
    "\t\tprint(\"--------------------------------------------\")\n",
    "\t\t\n",
    "\t\ttime.sleep(1)"
   ]
  },
  {
   "cell_type": "markdown",
   "metadata": {},
   "source": [
    "We run the function as best practice through the `if __name__ == '__main__':` logic which will allow us to cleanly run and exit our program from the command line. "
   ]
  },
  {
   "cell_type": "code",
   "execution_count": 4,
   "metadata": {},
   "outputs": [
    {
     "ename": "NameError",
     "evalue": "name 'runExample' is not defined",
     "output_type": "error",
     "traceback": [
      "\u001b[0;31m---------------------------------------------------------------------------\u001b[0m",
      "\u001b[0;31mNameError\u001b[0m                                 Traceback (most recent call last)",
      "\u001b[0;32m<ipython-input-4-ae28e3a5a32d>\u001b[0m in \u001b[0;36m<module>\u001b[0;34m\u001b[0m\n\u001b[1;32m      1\u001b[0m \u001b[0;32mif\u001b[0m \u001b[0m__name__\u001b[0m \u001b[0;34m==\u001b[0m \u001b[0;34m'__main__'\u001b[0m\u001b[0;34m:\u001b[0m\u001b[0;34m\u001b[0m\u001b[0;34m\u001b[0m\u001b[0m\n\u001b[1;32m      2\u001b[0m         \u001b[0;32mtry\u001b[0m\u001b[0;34m:\u001b[0m\u001b[0;34m\u001b[0m\u001b[0;34m\u001b[0m\u001b[0m\n\u001b[0;32m----> 3\u001b[0;31m                 \u001b[0mrunExample\u001b[0m\u001b[0;34m(\u001b[0m\u001b[0;34m)\u001b[0m\u001b[0;34m\u001b[0m\u001b[0;34m\u001b[0m\u001b[0m\n\u001b[0m\u001b[1;32m      4\u001b[0m         \u001b[0;32mexcept\u001b[0m \u001b[0;34m(\u001b[0m\u001b[0mKeyboardInterrupt\u001b[0m\u001b[0;34m,\u001b[0m \u001b[0mSystemExit\u001b[0m\u001b[0;34m)\u001b[0m \u001b[0;32mas\u001b[0m \u001b[0mexErr\u001b[0m\u001b[0;34m:\u001b[0m\u001b[0;34m\u001b[0m\u001b[0;34m\u001b[0m\u001b[0m\n\u001b[1;32m      5\u001b[0m                 \u001b[0mprint\u001b[0m\u001b[0;34m(\u001b[0m\u001b[0;34m\"\\nEnding Example 1\"\u001b[0m\u001b[0;34m)\u001b[0m\u001b[0;34m\u001b[0m\u001b[0;34m\u001b[0m\u001b[0m\n",
      "\u001b[0;31mNameError\u001b[0m: name 'runExample' is not defined"
     ]
    }
   ],
   "source": [
    "if __name__ == '__main__':\n",
    "\ttry:\n",
    "\t\trunExample()\n",
    "\texcept (KeyboardInterrupt, SystemExit) as exErr:\n",
    "\t\tprint(\"\\nEnding Example 1\")\n",
    "\t\tsys.exit(0)"
   ]
  },
  {
   "cell_type": "markdown",
   "metadata": {},
   "source": [
    "For more information and a deeper dive into the Qwiic Environmental Combo board APIs Please refer to our API references at [BME280](https://qwiic-bme280-py.readthedocs.io/en/latest/?) and [CCS811](https://qwiic-ccs811-py.readthedocs.io/en/latest/?)"
   ]
  }
 ],
 "metadata": {
  "kernelspec": {
   "display_name": "Python 3",
   "language": "python",
   "name": "python3"
  },
  "language_info": {
   "codemirror_mode": {
    "name": "ipython",
    "version": 3
   },
   "file_extension": ".py",
   "mimetype": "text/x-python",
   "name": "python",
   "nbconvert_exporter": "python",
   "pygments_lexer": "ipython3",
   "version": "3.6.9"
  }
 },
 "nbformat": 4,
 "nbformat_minor": 4
}
