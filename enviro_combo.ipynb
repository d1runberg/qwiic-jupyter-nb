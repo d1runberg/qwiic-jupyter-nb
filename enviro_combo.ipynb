{
 "cells": [
  {
   "cell_type": "markdown",
   "metadata": {},
   "source": [
    "# SparkFun Qwiic Environmental Combo Board\n",
    "\n",
    "<center><img src=\"./images/atmos_combo.jpg\"></center>\n",
    "![]()\n",
    "The SparkFun CCS811/BME280 Environmental Combo Breakout takes care of all your atmospheric-quality sensing needs with the popular CCS811 and BME280 ICs. This unique breakout provides a variety of environmental data, including barometric pressure, humidity, temperature, TVOCs and equivalent CO2 (or eCO2) levels. To make it even easier to use this breakout, all communication is enacted exclusively via I2C, utilizing our handy Qwiic system. "
   ]
  },
  {
   "cell_type": "markdown",
   "metadata": {},
   "source": [
    "# Qwiic Hookup\n",
    "\n",
    "<center><img src=\"./images/env_combo_h.jpg\"></center>\n",
    "Hookup with our Qwiic Line of products that are supported with Python are pretty straight forward! You need a Phat or our Qwiic Shim, your Qwiic board you Qwiic Environmental Board and a Qwiic Cable. The cables are keyed so there is no way to plug things in backwards. Qwiic is also daisy chain-able so if you want to add another Qwiic compatible boards later you just need a cable and find an open Qwiic connector on your system! "
   ]
  },
  {
   "cell_type": "markdown",
   "metadata": {},
   "source": [
    "# The Code\n",
    "To use the Qwiic Environmental Combo in Python and your Nvidia Jetson Nano, you first need to install the required Python libraries for it. If you haven't done so yet; no worries! We created a quick start notebook for you [here](#) which will walk you through installing the libraries through Jupyter Notebooks Terminal window.\n",
    "\n",
    "Once everything is installed we import the libraries into our program. Note that the Environmental Combo board is a mash-up of two sensors, so we import libraries for both the BME280 (`qwiic_bme280`) and the CCS811(`qwiic_ccs811`). We also include the `time` library as well as `sys`"
   ]
  },
  {
   "cell_type": "code",
   "execution_count": 12,
   "metadata": {},
   "outputs": [],
   "source": [
    "import qwiic_bme280\n",
    "import qwiic_ccs811\n",
    "import time\n",
    "import sys"
   ]
  },
  {
   "cell_type": "markdown",
   "metadata": {},
   "source": [
    "Now the meat of our program; first off we instantiate both of our libraries as their own objects (`my_bme` and `my_css`). We do a quick test to make sure that both sensors are connected to our system, if they are not it will return an error for you. Finally, if we are all good and clear we start both sensors with their `.begin()` methods. "
   ]
  },
  {
   "cell_type": "code",
   "execution_count": 13,
   "metadata": {},
   "outputs": [],
   "source": [
    "def runExample():\n",
    "    my_bme = qwiic_bme280.QwiicBme280()\n",
    "    my_ccs = qwiic_ccs811.QwiicCcs811() \n",
    "   \n",
    "    if my_bme.connected == False:\n",
    "        print(\"The Qwiic BME280 device isn't connected to the system. Please check your connection\")\n",
    "        return\n",
    "    if my_ccs.connected == False:\n",
    "        print(\"The qwiic CCS811 isnt connected to the system. Please check your connection\")\n",
    "        return\n",
    "\n",
    "    my_bme.begin()\n",
    "    my_ccs.begin()\n"
   ]
  },
  {
   "cell_type": "markdown",
   "metadata": {},
   "source": [
    "Once the sensors have started, inside of an infinite while loop we read the sensor data and print it out once every second. "
   ]
  },
  {
   "cell_type": "code",
   "execution_count": 14,
   "metadata": {},
   "outputs": [
    {
     "ename": "NameError",
     "evalue": "name 'my_ccs' is not defined",
     "output_type": "error",
     "traceback": [
      "\u001b[0;31m---------------------------------------------------------------------------\u001b[0m",
      "\u001b[0;31mNameError\u001b[0m                                 Traceback (most recent call last)",
      "\u001b[0;32m<ipython-input-14-3aff27ac835c>\u001b[0m in \u001b[0;36m<module>\u001b[0;34m\u001b[0m\n\u001b[1;32m      1\u001b[0m \u001b[0;32mwhile\u001b[0m \u001b[0;32mTrue\u001b[0m\u001b[0;34m:\u001b[0m\u001b[0;34m\u001b[0m\u001b[0;34m\u001b[0m\u001b[0m\n\u001b[0;32m----> 2\u001b[0;31m     \u001b[0mmy_ccs\u001b[0m\u001b[0;34m.\u001b[0m\u001b[0mread_algorithm_results\u001b[0m\u001b[0;34m(\u001b[0m\u001b[0;34m)\u001b[0m\u001b[0;34m\u001b[0m\u001b[0;34m\u001b[0m\u001b[0m\n\u001b[0m\u001b[1;32m      3\u001b[0m \u001b[0;34m\u001b[0m\u001b[0m\n\u001b[1;32m      4\u001b[0m     \u001b[0mprint\u001b[0m\u001b[0;34m(\u001b[0m\u001b[0;34m\"Humidity:\\t%.3f\"\u001b[0m \u001b[0;34m%\u001b[0m \u001b[0mmy_bme\u001b[0m\u001b[0;34m.\u001b[0m\u001b[0mhumidity\u001b[0m\u001b[0;34m)\u001b[0m\u001b[0;34m\u001b[0m\u001b[0;34m\u001b[0m\u001b[0m\n\u001b[1;32m      5\u001b[0m     \u001b[0mprint\u001b[0m\u001b[0;34m(\u001b[0m\u001b[0;34m\"Pressure:\\t%.3f\"\u001b[0m \u001b[0;34m%\u001b[0m \u001b[0mmy_bme\u001b[0m\u001b[0;34m.\u001b[0m\u001b[0mpressure\u001b[0m\u001b[0;34m)\u001b[0m\u001b[0;34m\u001b[0m\u001b[0;34m\u001b[0m\u001b[0m\n",
      "\u001b[0;31mNameError\u001b[0m: name 'my_ccs' is not defined"
     ]
    }
   ],
   "source": [
    "    while True:\n",
    "        my_ccs.read_algorithm_results()\n",
    "        \n",
    "        print(\"Humidity:\\t%.3f\" % my_bme.humidity)\n",
    "        print(\"Pressure:\\t%.3f\" % my_bme.pressure)\t\n",
    "        print(\"Altitude:\\t%.3f\" % my_bme.altitude_feet)\n",
    "        print(\"Temperature:\\t%.2f\" % my_bme.temperature_fahrenheit)\n",
    "        print(\"CO2:\\t%.3f\" % my_ccs.CO2)\n",
    "        print(\"tVOC:\\t%.3f\\n\" % my_ccs.TVOC)\n",
    "        print(\"--------------------------------------------\")\n",
    "        time.sleep(1)"
   ]
  },
  {
   "cell_type": "markdown",
   "metadata": {},
   "source": [
    "We run the function as best practice through the `if __name__ == '__main__':` logic which will allow us to cleanly run and exit our program from the command line. "
   ]
  },
  {
   "cell_type": "code",
   "execution_count": null,
   "metadata": {},
   "outputs": [],
   "source": [
    "if __name__ == '__main__':\n",
    "\ttry:\n",
    "\t\trunExample()\n",
    "\texcept (KeyboardInterrupt, SystemExit) as exErr:\n",
    "\t\tprint(\"\\nEnding Example 1\")\n",
    "\t\tsys.exit(0)"
   ]
  },
  {
   "cell_type": "markdown",
   "metadata": {},
   "source": [
    "For more information and a deeper dive into the Qwiic Environmental Combo board APIs Please refer to our API references at [BME280](https://qwiic-bme280-py.readthedocs.io/en/latest/?) and [CCS811](https://qwiic-ccs811-py.readthedocs.io/en/latest/?)"
   ]
  }
 ],
 "metadata": {
  "kernelspec": {
   "display_name": "Python 3",
   "language": "python",
   "name": "python3"
  },
  "language_info": {
   "codemirror_mode": {
    "name": "ipython",
    "version": 3
   },
   "file_extension": ".py",
   "mimetype": "text/x-python",
   "name": "python",
   "nbconvert_exporter": "python",
   "pygments_lexer": "ipython3",
   "version": "3.6.9"
  }
 },
 "nbformat": 4,
 "nbformat_minor": 4
}
