{
 "cells": [
  {
   "cell_type": "markdown",
   "metadata": {},
   "source": [
    "# SparkFun Qwiic VL53L1X Time of Flight Distance Sensor\n",
    "\n",
    "<center><img src=\"./images/qwiic_tof.jpg\"></center>\n",
    "\n",
    "This SparkFun Distance Sensor Breakout utilizes the VL53L1X next generation ToF (Time of Flight) sensor module to give you the highly accurate measurements at long ranges for its size. The VL53L1X uses a VCSEL (Vertical Cavity Surface Emitting Laser) to emit an Infrared laser to time the reflection to the target. That means that you will be able to measure the distance to an object from 40mm to 4m away with millimeter resolution! To make it even easier to get your readings, all communication is enacted exclusively via I2C, utilizing our handy Qwiic system so no soldering is required to connect it to the rest of your system. However, we still have broken out 0.1”-spaced pins in case you prefer to use a breadboard.\n",
    "\n",
    "Each VL53L1X sensor features a precision to be 1mm with an accuracy around +/-5mm and a minimum read distance of this sensor is 4cm. The field of view for this little breakout is fairly narrow at 15°-27° with a read rate of up to 50Hz. Make sure to power this board appropriately since it will need 2.6V-3.5V to operate. Lastly, please be sure to remove the protective sticker on the VL53L1X before use otherwise it will, most assuredly, throw off your readings."
   ]
  },
  {
   "cell_type": "markdown",
   "metadata": {},
   "source": [
    "# Hooking up the Distance Sensor\n",
    "\n",
    "<center><img scr=\"./images/tof_h.jpg\"></center>\n",
    "\n",
    "Hooking up the Qwiic VL53L1X Distance Sensor with our Qwiic Line of products that are supported with Python are pretty straight forward! You need a Phat or our Qwiic Shim, your Qwiic VL53L1X and a Qwiic Cable. "
   ]
  },
  {
   "cell_type": "markdown",
   "metadata": {},
   "source": [
    "# The Code\n",
    "To use the Qwiic VL53L1X in Python and your Nvidia Jetson Nano, you first need to install the required Python libraries for it. If you haven't done so yet; no worries! We created a quick start notebook for you [here](#) which will walk you through installing the libraries through Jupyter Notebooks Terminal window.\n",
    "\n",
    "Once everything is installed we import the libraries we need into our program. We import the `qwiic_vl53l1x` library and also the `sys`,`math` and `time` libraries. Those are all we need to get started for this example!!!"
   ]
  },
  {
   "cell_type": "code",
   "execution_count": null,
   "metadata": {},
   "outputs": [],
   "source": [
    "import qwiic_vl53l1x\n",
    "import time\n",
    "import math\n",
    "import sys"
   ]
  },
  {
   "cell_type": "markdown",
   "metadata": {},
   "source": [
    "To start with we create a function to hold the bulk of our script. We start out by instantiating our library as its own object (`my_tof`). We do a quick test to make sure that the sensor is connected to our system and communicating proppely, if not, it will return an error for you. Finally, if we everything passes our error checking we can move onto the next part of the script."
   ]
  },
  {
   "cell_type": "code",
   "execution_count": null,
   "metadata": {},
   "outputs": [],
   "source": [
    "my_tof = qwiic_vl53l1x.QwiicVL53L1X()\n",
    "\n",
    "if (my_tof.sensor_init() == None):\n",
    "    print(\"Sensor online!\\n\")"
   ]
  },
  {
   "cell_type": "markdown",
   "metadata": {},
   "source": [
    "We create an infinite while loop to repeat the process of repetively measuring the distance between the sensor and an object. Different from many other distance sensors we need to manually start ranging, then read the distance calculated by the sensor and then stop ranging. This whole process is somewhat timing specific, so the `sleep` methods used are important to maintain. \n",
    "\n",
    "We then calculate the distance which is given in millimeters to inches and feet for convenience. We print these numbers out to the terminal for demonstration purposes. "
   ]
  },
  {
   "cell_type": "code",
   "execution_count": null,
   "metadata": {},
   "outputs": [],
   "source": [
    "while True:\n",
    "\ttry:\n",
    "\t\tToF.start_ranging()\n",
    "\t\ttime.sleep(.005)\n",
    "\t\tdistance = ToF.get_distance()\n",
    "\t\ttime.sleep(.005)\n",
    "\t\tToF.stop_ranging()\n",
    "\n",
    "\t\tdistanceInches = distance / 25.4\n",
    "\t\tdistanceFeet = distanceInches / 12.0\n",
    "\n",
    "\t\tprint(\"Distance(mm): %s Distance(ft): %s\" % (distance, distanceFeet))\n",
    "\n",
    "\texcept Exception as e:\n",
    "\t\tprint(e)"
   ]
  },
  {
   "cell_type": "markdown",
   "metadata": {},
   "source": [
    "For more information and a deeper dive into the Qwiic VL53L1X API Please refer to our API reference at [ReadTheDocs](https://qwiic-vl53l1x-py.readthedocs.io/en/latest/?)"
   ]
  }
 ],
 "metadata": {
  "kernelspec": {
   "display_name": "Python 3",
   "language": "python",
   "name": "python3"
  },
  "language_info": {
   "codemirror_mode": {
    "name": "ipython",
    "version": 3
   },
   "file_extension": ".py",
   "mimetype": "text/x-python",
   "name": "python",
   "nbconvert_exporter": "python",
   "pygments_lexer": "ipython3",
   "version": "3.6.9"
  }
 },
 "nbformat": 4,
 "nbformat_minor": 4
}
