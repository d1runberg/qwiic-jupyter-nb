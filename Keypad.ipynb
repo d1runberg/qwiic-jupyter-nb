{
 "cells": [
  {
   "cell_type": "markdown",
   "metadata": {},
   "source": [
    "# SparkFun Qwiic Keypad \n",
    "\n",
    "<center><img src=\"./images/qwiic_keypad.jpg\"></center>\n",
    "\n",
    "Keypads are very handy input devices, but who wants to tie up seven GPIO pins, wire up a handful of pull-up resistors, and write firmware that wastes valuable processing time scanning the keys for inputs? The SparkFun Qwiic Keypad comes fully assembled and makes the development process for adding a 12 button keypad easy. No voltage translation or figuring out which I2C pin is SDA or SCL, just plug and go! Utilizing our handy Qwiic system, no soldering is required to connect it to the rest of your system. However, we still have broken out 0.1\"-spaced pins in case you prefer to use a breadboard.\n",
    "\n",
    "Each of the keypad's 12 buttons has been labeled 1, 2, 3, 4, 5, 6, 7, 8, 9, 0, *, and # and has been formatted to into the same layout as a telephone keypad with each keypress resistance ranging between 10 and 150 Ohms. The Qwiic Keypad reads and stores the last 15 button presses in a First-In, First-Out (FIFO) stack, so you don’t need to constantly poll the keypad from your microcontroller. This information, then, is accessible through the Qwiic interface. The SparkFun Qwiic Keypad even has a software configurable I2C address so you can have multiple I2C devices on the same bus."
   ]
  },
  {
   "cell_type": "markdown",
   "metadata": {},
   "source": [
    "# Hooking up the Keypad\n",
    "\n",
    "<center><img scr=\"./images/keypad_h.jpg\"></center>\n",
    "\n",
    "Hookup with our Qwiic Line of products that are supported with Python are pretty straight forward! You need a Phat or our Qwiic Shim, your Qwiic board you Qwiic Keypad and a Qwiic Cable. The cables are keyed so there is no way to plug things in backwards. Qwiic is also daisy chain-able so if you want to add another Qwiic compatible boards later you just need a cable and find an open Qwiic connector on your system! "
   ]
  },
  {
   "cell_type": "markdown",
   "metadata": {},
   "source": [
    "# The Code\n",
    "To use the Qwiic Keypad in Python and your Nvidia Jetson Nano, you first need to install the required Python libraries for it. If you haven't done so yet; no worries! We created a quick start notebook for you [here](#) which will walk you through installing the libraries through Jupyter Notebooks Terminal window.\n",
    "\n",
    "Once everything is installed we import the libraries into our program. We import the `qwiic_keypad` library and also the `time` library as well as `sys`"
   ]
  },
  {
   "cell_type": "code",
   "execution_count": 4,
   "metadata": {},
   "outputs": [],
   "source": [
    "from __future__ import print_function\n",
    "import qwiic_keypad\n",
    "import time\n",
    "import sys"
   ]
  },
  {
   "cell_type": "markdown",
   "metadata": {},
   "source": [
    "Now the meat of our program; first off we instantiate  our library as their own object (`my_keypad`). We do a quick test to make sure that the keypad is connected to our system, if not, it will return an error for you. Finally, if we are all good and clear we start the keypad with its `.begin()` method. "
   ]
  },
  {
   "cell_type": "code",
   "execution_count": 5,
   "metadata": {},
   "outputs": [],
   "source": [
    "def runExample():\n",
    "\n",
    "\tprint(\"\\nSparkFun qwiic Keypad   Example 1\\n\")\n",
    "\tmy_keypad = qwiic_keypad.QwiicKeypad()\n",
    "\n",
    "\tif my_keypad.connected == False:\n",
    "\t\tprint(\"The Qwiic Keypad device isn't connected to the system. Please check your connection\", \\\n",
    "\t\t\tfile=sys.stderr)\n",
    "\t\treturn\n",
    "\n",
    "\tmy_keypad.begin()\n",
    "\n",
    "\tprint(\"Initialized. Firmware Version: %s\" % myKeypad.version)\n",
    "\tprint(\"Press a button: * to do a space. # to go to next line.\")"
   ]
  },
  {
   "cell_type": "markdown",
   "metadata": {},
   "source": [
    "Next we set an initial value of the variable `button` to 0 and then start an infinite while loop. Inside of this loop it constantly updates the current registers of what button is being pressed and then through some logic we determine if what key is being pressed from that returned value. The value of -1 is returned as no buttons being pressed and from there each button pressed returns its value as a character. \n",
    "\n",
    "For performance reasons in this example we flush the systems stdout to keep response times low. If you are planning on using this keypad within an application where the values are not being presented in a terminal window you can remove this functionality."
   ]
  },
  {
   "cell_type": "code",
   "execution_count": 3,
   "metadata": {},
   "outputs": [
    {
     "ename": "NameError",
     "evalue": "name 'my_keypad' is not defined",
     "output_type": "error",
     "traceback": [
      "\u001b[0;31m---------------------------------------------------------------------------\u001b[0m",
      "\u001b[0;31mNameError\u001b[0m                                 Traceback (most recent call last)",
      "\u001b[0;32m<ipython-input-3-c4b732678061>\u001b[0m in \u001b[0;36m<module>\u001b[0;34m\u001b[0m\n\u001b[1;32m      3\u001b[0m \u001b[0;34m\u001b[0m\u001b[0m\n\u001b[1;32m      4\u001b[0m         \u001b[0;31m# necessary for keypad to pull button from stack to readable register\u001b[0m\u001b[0;34m\u001b[0m\u001b[0;34m\u001b[0m\u001b[0;34m\u001b[0m\u001b[0m\n\u001b[0;32m----> 5\u001b[0;31m         \u001b[0mmy_keypad\u001b[0m\u001b[0;34m.\u001b[0m\u001b[0mupdate_fifo\u001b[0m\u001b[0;34m(\u001b[0m\u001b[0;34m)\u001b[0m\u001b[0;34m\u001b[0m\u001b[0;34m\u001b[0m\u001b[0m\n\u001b[0m\u001b[1;32m      6\u001b[0m         \u001b[0mbutton\u001b[0m \u001b[0;34m=\u001b[0m \u001b[0mmy_keypad\u001b[0m\u001b[0;34m.\u001b[0m\u001b[0mget_button\u001b[0m\u001b[0;34m(\u001b[0m\u001b[0;34m)\u001b[0m\u001b[0;34m\u001b[0m\u001b[0;34m\u001b[0m\u001b[0m\n\u001b[1;32m      7\u001b[0m \u001b[0;34m\u001b[0m\u001b[0m\n",
      "\u001b[0;31mNameError\u001b[0m: name 'my_keypad' is not defined"
     ]
    }
   ],
   "source": [
    "\tbutton = 0\n",
    "\twhile True:\n",
    "\n",
    "\t\t# necessary for keypad to pull button from stack to readable register\n",
    "\t\tmy_keypad.update_fifo()  \n",
    "\t\tbutton = my_keypad.get_button()\n",
    "\n",
    "\t\tif button == -1:\n",
    "\t\t\tprint(\"No keypad detected\")\n",
    "\t\t\ttime.sleep(1)\n",
    "\n",
    "\t\telif button != 0:\n",
    "\n",
    "\t\t\t# Get the character version of this char\n",
    "\t\t\tcharButton = chr(button)\n",
    "\t\t\tif charButton == '#':\n",
    "\t\t\t\tprint()\n",
    "\t\t\telif charButton == '*':\n",
    "\t\t\t\tprint(\" \", end=\"\")\n",
    "\t\t\telse: \n",
    "\t\t\t\tprint(charButton, end=\"\")\n",
    "\n",
    "\t\t\t# Flush the stdout buffer to give immediate user feedback\n",
    "\t\t\tsys.stdout.flush()\n",
    "\n",
    "\t\ttime.sleep(.25)"
   ]
  },
  {
   "cell_type": "markdown",
   "metadata": {},
   "source": [
    "We finally execute the function through best practices and use of the `if __name__ == '__main__':`"
   ]
  },
  {
   "cell_type": "code",
   "execution_count": null,
   "metadata": {},
   "outputs": [],
   "source": [
    "if __name__ == '__main__':\n",
    "\ttry:\n",
    "\t\trunExample()\n",
    "\texcept (KeyboardInterrupt, SystemExit) as exErr:\n",
    "\t\tprint(\"\\nEnding Example 1\")\n",
    "\t\tsys.exit(0)"
   ]
  },
  {
   "cell_type": "markdown",
   "metadata": {},
   "source": [
    "For more information and a deeper dive into the Qwiic Keypad API Please refer to our API reference at [ReadTheDocs](https://qwiic-keypad-py.readthedocs.io/en/latest/?)"
   ]
  }
 ],
 "metadata": {
  "kernelspec": {
   "display_name": "Python 3",
   "language": "python",
   "name": "python3"
  },
  "language_info": {
   "codemirror_mode": {
    "name": "ipython",
    "version": 3
   },
   "file_extension": ".py",
   "mimetype": "text/x-python",
   "name": "python",
   "nbconvert_exporter": "python",
   "pygments_lexer": "ipython3",
   "version": "3.6.9"
  }
 },
 "nbformat": 4,
 "nbformat_minor": 4
}
