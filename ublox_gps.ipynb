{
 "cells": [
  {
   "cell_type": "markdown",
   "metadata": {},
   "source": [
    "# SparkFun Qwiic U-Blox GPS Boards\n",
    "\n",
    "<center><img src=\"./images/Square.jpg\" style=\"max-width:50%;max-height:50%;\"></center>\n",
    "\n",
    "SparkFun Ublox GPS Breakouts are high quality, GPS board with equally impressive configuration options. They can receive signals from the GPS, GLONASS, Galileo, and BeiDou constellations with ~1.5 meter accuracy or under. These breakout supports concurrent reception of four GNSS maximizes position accuracy in challenging conditions increasing precision and decreases lock time and thanks to the onboard rechargeable battery, you'll have backup power enabling the GPS to get a hot lock within seconds! Additionally, these u-blox receiver supports I2C (u-blox calls this Display Data Channel) which made it perfect for the Qwiic compatibility so we don't have to use up our precious UART ports. Utilizing our handy Qwiic system, no soldering is required to connect it to the rest of your system. However, we still have broken out 0.1\"-spaced pins in case you prefer to use a breadboard."
   ]
  },
  {
   "cell_type": "markdown",
   "metadata": {},
   "source": [
    "# Qwiic Hookup\n",
    "\n",
    "<center><img src=\"./images/gps_h.jpg\"></center>\n",
    "\n",
    "Hookup with our Qwiic Line of products that are supported with Python are pretty straight forward! You need a Phat or our Qwiic Shim, your Qwiic board you Qwiic Environmental Board and a Qwiic Cable. The cables are keyed so there is no way to plug things in backwards. Qwiic is also daisy chain-able so if you want to add another Qwiic compatible boards later you just need a cable and find an open Qwiic connector on your system! \n",
    "\n",
    "In addition to hooking the GPS board to your Jetson Nano using Qwiic and depending on the U-Blox breakout board that you are using an External antenna may be needed to lock onto satellites. If your modules requires an external antenna you will also need to hook that antenna up. For further details on what parts are needed and how to do that please refer to our hook up guides for the specific board that you are planning on using. \n",
    "\n",
    "**Note: The use of GPS modules indoors is not a good idea and produce best results when they have line of sight to the sky. When using a GPS module with this example code try to be near a window and/or have access to placing an antenna outside."
   ]
  },
  {
   "cell_type": "markdown",
   "metadata": {},
   "source": [
    "# The Code\n",
    "To use any of the Qwiic U-Blox GPS Modules in Python and your Nvidia Jetson Nano, you first need to install the required Python libraries for it. If you haven't done so yet; no worries! We created a quick start notebook for you [here](#) which will walk you through installing the libraries through Jupyter Notebooks Terminal window.\n",
    "\n",
    "Once everything is installed we import the libraries into our program. In this example we import libraries for  the U-Blox GPS (`qwiic_ublox-gps`) as well as `time` and `sys` libraries."
   ]
  },
  {
   "cell_type": "code",
   "execution_count": 1,
   "metadata": {},
   "outputs": [],
   "source": [
    "from __future__ import print_function\n",
    "import qwiic_ublox_gps\n",
    "import time\n",
    "import sys"
   ]
  },
  {
   "cell_type": "markdown",
   "metadata": {},
   "source": [
    "We create an example function and within it we instantiate our qwiicGPS object, make sure it is connected and then begin communication with it. "
   ]
  },
  {
   "cell_type": "code",
   "execution_count": 2,
   "metadata": {},
   "outputs": [],
   "source": [
    "def run_example():\n",
    "\n",
    "    print(\"SparkFun u-blox GPS!\")\n",
    "    qwiicGPS = qwiic_ublox_gps.QwiicUbloxGps()\n",
    "\n",
    "    if qwiicGPS.connected == False:\n",
    "        print(\"Could not connect to to the SparkFun GPS Unit. Double check that\\\n",
    "              it's wired correctly.\", file=sys.stderr)\n",
    "        return\n",
    "    \n",
    "    qwiicGPS.begin()\n",
    "\n",
    "   "
   ]
  },
  {
   "cell_type": "markdown",
   "metadata": {},
   "source": [
    "We then progress to an infinite while loop that continually collects the parsed NMEA data from the Qwiic U-Blox GPS board and if it is new data to print portions of that message over the console. "
   ]
  },
  {
   "cell_type": "code",
   "execution_count": null,
   "metadata": {},
   "outputs": [],
   "source": [
    " while True:\n",
    "\n",
    "        # Check if there's data, on 'True', check the gnss_messages dictionary.\n",
    "        data_status = qwiicGPS.get_parsed_nmea()\n",
    "        if data_status is True:\n",
    "            print(\"Latitude: {}, Longitude: {}. \".format(\n",
    "                qwiicGPS.gnss_messages['Latitude'], \n",
    "                qwiicGPS.gnss_messages['Longitude']))\n",
    "\n",
    "            print(\"Altitude: {}, Number of Satellites: {}. \".format(\n",
    "                qwiicGPS.gnss_messages['Altitude'], \n",
    "                qwiicGPS.gnss_messages['Sat_Number']))\n",
    "            print(\"----------------------------------------------------\")"
   ]
  },
  {
   "cell_type": "markdown",
   "metadata": {},
   "source": [
    "Finally, we run our example code with best practices using `if __name__ == '__main__':` logic so we can close our program out cleanly."
   ]
  },
  {
   "cell_type": "code",
   "execution_count": null,
   "metadata": {},
   "outputs": [
    {
     "name": "stdout",
     "output_type": "stream",
     "text": [
      "SparkFun u-blox GPS!\n",
      "Latitude: 0.0, Longitude: 0.0. \n",
      "Altitude: 0.0, Number of Satellites: 0. \n",
      "Latitude: 45.450767166666665, Longitude: -122.99759083333333. \n",
      "Altitude: 0.0, Number of Satellites: 0. \n",
      "Latitude: 45.450767166666665, Longitude: -122.99759083333333. \n",
      "Altitude: 0.0, Number of Satellites: 0. \n",
      "Latitude: 45.450767166666665, Longitude: -122.99759083333333. \n",
      "Altitude: 0.0, Number of Satellites: 0. \n"
     ]
    }
   ],
   "source": [
    "if __name__ == '__main__':\n",
    "    try:\n",
    "        run_example()\n",
    "    except (KeyboardInterrupt, SystemExit) as exErr:\n",
    "        print(\"Ending Basic Example.\")\n",
    "        sys.exit(0)"
   ]
  },
  {
   "cell_type": "markdown",
   "metadata": {},
   "source": [
    "For more information and a deeper dive into the Qwiic U-Blox GPS boards APIs Please refer to our API references [here](https://github.com/sparkfun/Qwiic_Ublox_Gps_Py/tree/b68f6d850687911f9b706311669103a6f9185d47)."
   ]
  }
 ],
 "metadata": {
  "kernelspec": {
   "display_name": "Python 3",
   "language": "python",
   "name": "python3"
  },
  "language_info": {
   "codemirror_mode": {
    "name": "ipython",
    "version": 3
   },
   "file_extension": ".py",
   "mimetype": "text/x-python",
   "name": "python",
   "nbconvert_exporter": "python",
   "pygments_lexer": "ipython3",
   "version": "3.6.9"
  }
 },
 "nbformat": 4,
 "nbformat_minor": 4
}
