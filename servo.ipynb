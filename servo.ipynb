{
 "cells": [
  {
   "cell_type": "markdown",
   "metadata": {},
   "source": [
    "# SparkFun Qwiic Servo Phat\n",
    "<center><img src=\"./images/servo_phat.jpg\"></center>\n",
    "\n",
    "The SparkFun Servo pHAT for Raspberry Pi allows your Raspberry Pi to control up to 16 servo motors in a straightforward and uncomplicated manner via an I2C connection. Thanks to its I2C capabilities, this PWM HAT saves the Raspberry Pi's GPIO pins, allowing you to use them for other purposes. The Servo pHAT also adds a serial terminal connection, which will allow you to bring up a Raspberry Pi without having to hook it up to a monitor and keyboard. We have provided a Qwiic connector for easy interfacing with the I2C bus using the Qwiic system, and a 4-pin header specifically for connecting to the Sphero RVR.\n",
    "\n",
    "Power to the SparkFun Servo pHAT can be supplied through USB-C connector. This will power either the servo motors only, or power the servo motors as well as the Raspberry Pi that is connected to the HAT. We switched to USB-C to allow you to bring more current to your servos than ever before. This USB-C connector can also be used to hook up the Pi via serial port connection to avoid having to use a monitor and keyboard for setting up the Pi. To supply power only to the servo power rail (and not the Pi's 5V power rail), you just need to cut a small trace on the isolation jumper. Doing this allows you to drive heavier loads coming from multiple or larger servos. We've even added power protection circuits to the design, to avoid damage to power sources.\n",
    "\n",
    "Each of this pHAT's 16 servo motor pin headers has been spaced out to the standard 3-pin servo pinout (ground, 5V, signal) to make it easier to attach your servo motors."
   ]
  },
  {
   "cell_type": "markdown",
   "metadata": {},
   "source": [
    "# Qwiic Hookup\n",
    "Hookup with our Qwiic Line of products that are supported with Python are pretty straight forward! This board is a Qwiic Phat which means that hook up is as simple as attaching it to the GPIO header on your Jetson Nano Development Kit as shown in the image. \n",
    "\n",
    "The Servo Phat has a Qwiic connector on it to add any of of our other Qwiic boards that are supported with Python. But, it also serves a primary purpose of connecting and controller servos with your Nvidia Jetson Nano. The board has the potential to hookup 16 different servos, each having their own channel. A USB C type connector is included to provide an external power supply for powering the servos seperately from the Jetson Nano (which can also be powered from this power source as well). Servos can be attached as shown below\n",
    "\n",
    "<center><img scr=\"./images/servo_h.jpg\"></center>\n"
   ]
  },
  {
   "cell_type": "markdown",
   "metadata": {},
   "source": [
    "# The Code\n",
    "To use the Qwiic Servo Phat in Python and your Nvidia Jetson Nano, you first need to install the required Python libraries for it. If you haven't done so yet; no worries! We created a quick start notebook for you [here](#) which will walk you through installing the libraries through Jupyter Notebooks Terminal window.\n",
    "\n",
    "Once everything is installed we import the libraries into our program. We import the library for both the Servo Phat (`pi_servo_hat`) at the top of our script. We also include the `time` library as well."
   ]
  },
  {
   "cell_type": "code",
   "execution_count": 1,
   "metadata": {},
   "outputs": [],
   "source": [
    "from pi_servo_hat import PiServoHat\n",
    "import time"
   ]
  },
  {
   "cell_type": "markdown",
   "metadata": {},
   "source": [
    "First off we instantiate  our library as its own object (`servos`). From there we restart the Phat as we want to make sure there are no other commands or weird communication artifacts that could be be erroniously sent to it that would interefere with our program. Next, a quick test of our servo attached to channel 0 to make sure is connected and working on our system, if not, your servo will not move! Finally, if we are all good and clear we start the keypad with its `.begin()` method. "
   ]
  },
  {
   "cell_type": "code",
   "execution_count": null,
   "metadata": {},
   "outputs": [],
   "source": [
    "servos = PiServoHat()\n",
    "\n",
    "servos.restart()\n",
    "\n",
    "servos.move_servo_position(0, 0, 180)\n",
    "\n",
    "time.sleep (1)\n",
    "\n",
    "servos.move_servo_position(0, 180, 180)\n"
   ]
  },
  {
   "cell_type": "markdown",
   "metadata": {},
   "source": [
    "We create an example function and place an infinite while loop inside of it. Inside of this loop we increment and decreement the servos potition using some basic for loops. We control the speed of each loop with a `time.sleep()` method. The smaller the sleep time, the faster the servo will move. For the sake of feedback we also print the servo angle to the terminal. \n",
    "\n",
    "**Note: feel free to comment the print functions out to decrease the visual clutter in this notebook!"
   ]
  },
  {
   "cell_type": "code",
   "execution_count": null,
   "metadata": {},
   "outputs": [],
   "source": [
    "def example():\n",
    "    while True:\n",
    "        for i in range(0, 180):\n",
    "            print(i)\n",
    "            servos.move_servo_position(0, i, 180)\n",
    "            time.sleep(.05)\n",
    "        for i in range(180, 0, -1):\n",
    "            print(i)\n",
    "            servos.move_servo_position(0, i, 180)\n",
    "            time.sleep(.05)\n"
   ]
  },
  {
   "cell_type": "markdown",
   "metadata": {},
   "source": [
    "We run the function as best practice through the `if __name__ == '__main__':` logic which will allow us to cleanly run and exit our program from the command line. "
   ]
  },
  {
   "cell_type": "code",
   "execution_count": null,
   "metadata": {},
   "outputs": [],
   "source": [
    "if __name__ == '__main__':\n",
    "    try:\n",
    "        example()\n",
    "    except (KeyboardInterrupt, SystemExit) as exErr:\n",
    "        print(\"Ending Basic Example.\")\n",
    "        sys.exit(0)"
   ]
  },
  {
   "cell_type": "markdown",
   "metadata": {},
   "source": [
    "For more information and a deeper dive into the Qwiic Servo Phat API Please refer to our API reference at [ReadTheDocs](https://piservohat-py.readthedocs.io/en/latest/)"
   ]
  }
 ],
 "metadata": {
  "kernelspec": {
   "display_name": "Python 3",
   "language": "python",
   "name": "python3"
  },
  "language_info": {
   "codemirror_mode": {
    "name": "ipython",
    "version": 3
   },
   "file_extension": ".py",
   "mimetype": "text/x-python",
   "name": "python",
   "nbconvert_exporter": "python",
   "pygments_lexer": "ipython3",
   "version": "3.6.9"
  }
 },
 "nbformat": 4,
 "nbformat_minor": 4
}
