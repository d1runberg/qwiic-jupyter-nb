{
 "cells": [
  {
   "cell_type": "markdown",
   "metadata": {},
   "source": [
    "# SparkFun Qwiic OLED Display\n",
    "\n",
    "<center><img src=\"./images/qwiic_oled.jpg\"></center>\n",
    "\n",
    "The SparkFun Qwiic Micro OLED Breakout is a Qwiic-enabled version of our popular Micro OLED display! The small monochrome, blue-on-black OLED screen presents incredibly clear images for your viewing pleasure. It’s “micro,” but it still packs a punch --- the OLED display is crisp, and you can fit a deceivingly large amount of graphics on there. This breakout is perfect for adding graphics to your next project and displaying diagnostic information without resorting to a serial output, all with the ease of use of our own Qwiic Connect System!\n",
    "\n",
    "This version of the Micro OLED Breakout is exactly the size of its non-Qwiic sibling, featuring a screen that is 64 pixels wide and 48 pixels tall and measuring 0.66\" across. But it has also been equipped with two Qwiic connectors, making it ideal for I2C operations. We've also added two mounting holes and a convenient Qwiic cable holder incorporated into a detachable tab on the board that can be easily removed thanks to a v-scored edge. We've even made sure to include an I2C pull-up jumper and ADDR jumper on the back of the board, so if you have your own I2C pull-ups or need to change the I2C address of the board, you have options!\n"
   ]
  },
  {
   "cell_type": "markdown",
   "metadata": {},
   "source": [
    "# Hooking up the OLED\n",
    "\n",
    "<center><img scr=\"./images/oled_\"></center>\n",
    "\n",
    "Hooking up the Qwiic OLED with our other Qwiic line of products that are supported with Python is as straight forward and as painless as possible! You need a Qwiic enabled hat or breakout for your development board, your Qwiic OLED and a Qwiic Cable. The cables are keyed so there is no way to plug things in backwards. Qwiic is also daisy chain-able so if you want to add a display to your project later all you need is a cable and an open Qwiic connector on your system! \n"
   ]
  },
  {
   "cell_type": "markdown",
   "metadata": {},
   "source": [
    "# The Code\n",
    "To use the Qwiic Keypad in Python and your Nvidia Jetson Nano, you first need to install the required Python libraries for it. If you haven't done so yet; no worries! We created a quick start notebook for you [here](#) which will walk you through installing the libraries through Jupyter Notebooks Terminal window.\n",
    "\n",
    "Once everything is installed we import the libraries we need into our program. We import the `qwiic_micro_oled` library and also the `sys` library. That's all we need!!!"
   ]
  },
  {
   "cell_type": "code",
   "execution_count": 5,
   "metadata": {},
   "outputs": [],
   "source": [
    "from __future__ import print_function\n",
    "import qwiic_micro_oled\n",
    "import sys"
   ]
  },
  {
   "cell_type": "markdown",
   "metadata": {},
   "source": [
    "To start, we define a function to hold the bulk of our script, in this example we call it `runExample()`. Within the function we instantiating our library as its own object as `my_oled`. Next,we check to make sure that the oled is connected to our system; if not, it will return an error. Finally, if we everything passes our error checking, we start the OLED with its `my_oled.begin()` method. \n",
    "\n",
    "Once the OLED display has started the first thing to do is to clear the current page of the display and then run through some configuration methods to set the font size and place the cursor at coordinates (0,0) which is the upper left hand corner of the display. The `my_oled.print()` method is then used to print text on the display. We finally display everything using the `my_oled.display()` method. \n",
    "\n",
    "**Note: For anything to show up on the display you need to call the `my_oled.display()` method after it! "
   ]
  },
  {
   "cell_type": "code",
   "execution_count": 6,
   "metadata": {},
   "outputs": [],
   "source": [
    "def runExample():\n",
    "\n",
    "    #  These three lines of code are all you need to initialize the\n",
    "    #  OLED and print the splash screen.\n",
    "\n",
    "    #  Before you can start using the OLED, call begin() to init\n",
    "    #  all of the pins and configure the OLED.\n",
    "\n",
    "\n",
    "    print(\"\\nSparkFun Micro OLED Hello Example\\n\")\n",
    "    my_oled = qwiic_micro_oled.QwiicMicroOled()\n",
    "\n",
    "    if not my_oled.connected:\n",
    "        print(\"The Qwiic Micro OLED device isn't connected to the system. Please check your connection\", \\\n",
    "            file=sys.stderr)\n",
    "        return\n",
    "\n",
    "    my_oled.begin()\n",
    "    my_oled.clear(my_oled.PAGE)\n",
    "    my_oled.set_font_type(0)  # Set font to type 0\n",
    "    my_oled.set_cursor(0, 0) # Set cursor to top-left\n",
    "    my_oled.print(\"Hello Nano!\")\n",
    "    my_oled.display()\n",
    "    "
   ]
  },
  {
   "cell_type": "markdown",
   "metadata": {},
   "source": [
    "We finally execute the function through best practices and use of the `if __name__ == '__main__':`"
   ]
  },
  {
   "cell_type": "code",
   "execution_count": 7,
   "metadata": {},
   "outputs": [
    {
     "name": "stdout",
     "output_type": "stream",
     "text": [
      "\n",
      "SparkFun Micro OLED Hello Example\n",
      "\n"
     ]
    }
   ],
   "source": [
    "if __name__ == '__main__':\n",
    "    try:\n",
    "        runExample()\n",
    "    except (KeyboardInterrupt, SystemExit) as exErr:\n",
    "        print(\"\\nEnding OLED Hello Example\")\n",
    "        sys.exit(0)"
   ]
  },
  {
   "cell_type": "markdown",
   "metadata": {},
   "source": [
    "For more information and a deeper dive into the Qwiic Micro OLED API Please refer to our API reference at [ReadTheDocs](https://qwiic-micro-oled-py.readthedocs.io/en/latest/index.html)"
   ]
  }
 ],
 "metadata": {
  "kernelspec": {
   "display_name": "Python 3",
   "language": "python",
   "name": "python3"
  },
  "language_info": {
   "codemirror_mode": {
    "name": "ipython",
    "version": 3
   },
   "file_extension": ".py",
   "mimetype": "text/x-python",
   "name": "python",
   "nbconvert_exporter": "python",
   "pygments_lexer": "ipython3",
   "version": "3.6.9"
  }
 },
 "nbformat": 4,
 "nbformat_minor": 4
}
