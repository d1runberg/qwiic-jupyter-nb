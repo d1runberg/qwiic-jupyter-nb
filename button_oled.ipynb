{
 "cells": [
  {
   "cell_type": "markdown",
   "metadata": {},
   "source": [
    "A Basic example of using ipywidgets with the Qwiic OLED to enter text into a text box and then print it over the OLED!"
   ]
  },
  {
   "cell_type": "code",
   "execution_count": 3,
   "metadata": {},
   "outputs": [
    {
     "data": {
      "application/vnd.jupyter.widget-view+json": {
       "model_id": "42a3d3d9a8d542a7a5ef24e6ecf46d6a",
       "version_major": 2,
       "version_minor": 0
      },
      "text/plain": [
       "Text(value='Hello World', description='TO PRINT:', placeholder='Type something')"
      ]
     },
     "metadata": {},
     "output_type": "display_data"
    },
    {
     "data": {
      "application/vnd.jupyter.widget-view+json": {
       "model_id": "b253b45e5d724585b7d3d24304ca3139",
       "version_major": 2,
       "version_minor": 0
      },
      "text/plain": [
       "Button(description='Send', style=ButtonStyle())"
      ]
     },
     "metadata": {},
     "output_type": "display_data"
    }
   ],
   "source": [
    "import ipywidgets as widgets\n",
    "import traitlets\n",
    "from IPython.display import display\n",
    "import qwiic_micro_oled\n",
    "\n",
    "my_oled = qwiic_micro_oled.QwiicMicroOled()\n",
    "button = widgets.Button(description=\"Send\")\n",
    "\n",
    "text=widgets.Text(\n",
    "    value='Hello World',\n",
    "    placeholder='Type something',\n",
    "    description='TO PRINT:',\n",
    "    disabled=False\n",
    ")\n",
    "\n",
    "my_oled.begin()\n",
    "\n",
    "output = widgets.Output()\n",
    "#output2 = widgets.Output()\n",
    "\n",
    "def on_button_clicked(b):\n",
    "    with output:\n",
    "        my_oled.clear(my_oled.PAGE)\n",
    "        my_oled.set_font_type(0)  # Set font to type 0\n",
    "        my_oled.set_cursor(0, 0) # Set cursor to top-left\n",
    "        my_oled.print(text.value)\n",
    "        my_oled.display()\n",
    "\n",
    "button.on_click(on_button_clicked)\n",
    "\n",
    "display(text,button)"
   ]
  },
  {
   "cell_type": "code",
   "execution_count": null,
   "metadata": {},
   "outputs": [],
   "source": []
  }
 ],
 "metadata": {
  "kernelspec": {
   "display_name": "Python 3",
   "language": "python",
   "name": "python3"
  },
  "language_info": {
   "codemirror_mode": {
    "name": "ipython",
    "version": 3
   },
   "file_extension": ".py",
   "mimetype": "text/x-python",
   "name": "python",
   "nbconvert_exporter": "python",
   "pygments_lexer": "ipython3",
   "version": "3.6.9"
  }
 },
 "nbformat": 4,
 "nbformat_minor": 4
}
