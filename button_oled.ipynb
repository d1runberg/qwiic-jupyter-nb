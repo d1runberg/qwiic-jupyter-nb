{
 "cells": [
  {
   "cell_type": "markdown",
   "metadata": {},
   "source": [
    "## A Hello World using Qwiic and Jupyter Widgets\n",
    "This is a simple example of integrating the Jupyter Notebook widget with the SparkFun Qwiic OLED Display. In the end you simply enter text into the text field in the widget and click \"send\" to print it out over the OLED display. To make this example work follow the hookup guide for the OLED Notebook and then run this notebook code. "
   ]
  },
  {
   "cell_type": "markdown",
   "metadata": {},
   "source": [
    "### The Code\n",
    "\n",
    "First off we import the required libraries, including both the Qwiic OLED library as well as the widgets and traitlets libraries for creating the UI components as well as connecting them to attributes of other components."
   ]
  },
  {
   "cell_type": "code",
   "execution_count": 1,
   "metadata": {},
   "outputs": [],
   "source": [
    "import ipywidgets as widgets\n",
    "import traitlets\n",
    "from IPython.display import display\n",
    "import qwiic_micro_oled"
   ]
  },
  {
   "cell_type": "markdown",
   "metadata": {},
   "source": [
    "We then instantiate objects for our OLED display as well as the UI components of a button and text box. We finally run the `begin()` method for the display to start it."
   ]
  },
  {
   "cell_type": "code",
   "execution_count": 2,
   "metadata": {},
   "outputs": [],
   "source": [
    "my_oled = qwiic_micro_oled.QwiicMicroOled()\n",
    "button = widgets.Button(description=\"Send\")\n",
    "\n",
    "output = widgets.Output()\n",
    "\n",
    "text=widgets.Text(\n",
    "    value='Hello World',\n",
    "    placeholder='Type something',\n",
    "    description='TO PRINT:',\n",
    "    disabled=False\n",
    ")\n",
    "\n",
    "my_oled.begin()"
   ]
  },
  {
   "cell_type": "markdown",
   "metadata": {},
   "source": [
    "We then create an event callback function that execultes when the UI button is click with an output. We go through the process of printing whatever text was entered into the text box and we access that through the `text.value` attribute. "
   ]
  },
  {
   "cell_type": "code",
   "execution_count": 3,
   "metadata": {},
   "outputs": [],
   "source": [
    "def on_button_clicked(b):\n",
    "    with output:\n",
    "        my_oled.clear(my_oled.PAGE)\n",
    "        my_oled.set_font_type(0)  # Set font to type 0\n",
    "        my_oled.set_cursor(0, 0) # Set cursor to top-left\n",
    "        my_oled.print(text.value)\n",
    "        my_oled.display()\n"
   ]
  },
  {
   "cell_type": "markdown",
   "metadata": {},
   "source": [
    "We finally attach the callback function to the actual `button.on_click()` event function and then display the two widgets text and button! Enter your name in the text box and click send!"
   ]
  },
  {
   "cell_type": "code",
   "execution_count": 4,
   "metadata": {},
   "outputs": [
    {
     "data": {
      "application/vnd.jupyter.widget-view+json": {
       "model_id": "554588941be54de0919ba83349c92bd5",
       "version_major": 2,
       "version_minor": 0
      },
      "text/plain": [
       "Text(value='Hello World', description='TO PRINT:', placeholder='Type something')"
      ]
     },
     "metadata": {},
     "output_type": "display_data"
    },
    {
     "data": {
      "application/vnd.jupyter.widget-view+json": {
       "model_id": "45c00ebfca9c49f68c8eb8a7419164f7",
       "version_major": 2,
       "version_minor": 0
      },
      "text/plain": [
       "Button(description='Send', style=ButtonStyle())"
      ]
     },
     "metadata": {},
     "output_type": "display_data"
    }
   ],
   "source": [
    "button.on_click(on_button_clicked)\n",
    "\n",
    "display(text,button)"
   ]
  },
  {
   "cell_type": "code",
   "execution_count": null,
   "metadata": {},
   "outputs": [],
   "source": []
  }
 ],
 "metadata": {
  "kernelspec": {
   "display_name": "Python 3",
   "language": "python",
   "name": "python3"
  },
  "language_info": {
   "codemirror_mode": {
    "name": "ipython",
    "version": 3
   },
   "file_extension": ".py",
   "mimetype": "text/x-python",
   "name": "python",
   "nbconvert_exporter": "python",
   "pygments_lexer": "ipython3",
   "version": "3.6.9"
  }
 },
 "nbformat": 4,
 "nbformat_minor": 4
}
